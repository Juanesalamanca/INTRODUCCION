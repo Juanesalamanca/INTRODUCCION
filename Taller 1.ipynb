{
 "cells": [
  {
   "cell_type": "markdown",
   "metadata": {},
   "source": [
    "# HOLA MUNDO"
   ]
  },
  {
   "cell_type": "code",
   "execution_count": 2,
   "metadata": {},
   "outputs": [
    {
     "name": "stdout",
     "output_type": "stream",
     "text": [
      "¡Hola mundo!\n",
      "¡Hola\n",
      "mundo!\n"
     ]
    }
   ],
   "source": [
    "print('¡Hola mundo!')\n",
    "print('¡Hola\\nmundo!') #esta parte no se tiene en cuenta"
   ]
  },
  {
   "cell_type": "markdown",
   "metadata": {},
   "source": [
    "# OPERACIONES ARITMÉTICAS"
   ]
  },
  {
   "cell_type": "code",
   "execution_count": 5,
   "metadata": {},
   "outputs": [
    {
     "name": "stdout",
     "output_type": "stream",
     "text": [
      "3.5\n",
      "8.0\n",
      "76.25\n",
      "El año tiene 31536000 segundos\n"
     ]
    }
   ],
   "source": [
    "a= 5*(2.5+3.1)/8\n",
    "print(a)\n",
    "b=(2**3+4**2)/3\n",
    "print(b)\n",
    "c=a**2+b**2\n",
    "print(c)\n",
    "s=365*24*3600\n",
    "print(\"El año tiene\", s, \"segundos\")\n"
   ]
  },
  {
   "cell_type": "markdown",
   "metadata": {},
   "source": [
    "# GUARDAR TEXTO EN VARIABLES Y UNIR TEXTO"
   ]
  },
  {
   "cell_type": "code",
   "execution_count": 11,
   "metadata": {},
   "outputs": [
    {
     "name": "stdout",
     "output_type": "stream",
     "text": [
      "casa amarilla\n",
      "Mi casa amarilla\n"
     ]
    }
   ],
   "source": [
    "x=\"casa\"\n",
    "y=\"amarilla\"\n",
    "x+y\n",
    "e=\" \"\n",
    "z=x+e+y\n",
    "print(z)\n",
    "print(\"Mi \"+z)"
   ]
  },
  {
   "cell_type": "markdown",
   "metadata": {},
   "source": [
    "# INGRESO DE VALORES POR TECLADO"
   ]
  },
  {
   "cell_type": "code",
   "execution_count": 2,
   "metadata": {},
   "outputs": [
    {
     "name": "stdout",
     "output_type": "stream",
     "text": [
      "4\n",
      "<class 'str'>\n",
      "<class 'float'>\n"
     ]
    }
   ],
   "source": [
    "x=input(\"Ingrese un número\")\n",
    "print(x)\n",
    "x=input(\"Ingrese un número\")\n",
    "print(type(x))\n",
    "x=float(input(\"Ingrese un número\"))\n",
    "print(type(x))"
   ]
  },
  {
   "cell_type": "markdown",
   "metadata": {},
   "source": [
    "# LISTA DE VECTORES"
   ]
  },
  {
   "cell_type": "code",
   "execution_count": 5,
   "metadata": {},
   "outputs": [
    {
     "name": "stdout",
     "output_type": "stream",
     "text": [
      "['a', 'b', 'c', 'd', 'e']\n",
      "['a', 'b', 'c', 'e']\n",
      "['a', 'b', 'c']\n",
      "['b', 'c']\n",
      "['b', 'c', 'h']\n"
     ]
    }
   ],
   "source": [
    "x=[\"a\",\"b\",\"c\",\"d\",\"e\"]\n",
    "print(x)\n",
    "x.pop(3)\n",
    "print(x)\n",
    "x.pop(-1)\n",
    "print(x)\n",
    "x.remove(\"a\")\n",
    "print(x)\n",
    "x.append(\"h\")\n",
    "print(x)"
   ]
  }
 ],
 "metadata": {
  "kernelspec": {
   "display_name": "Python 3",
   "language": "python",
   "name": "python3"
  },
  "language_info": {
   "codemirror_mode": {
    "name": "ipython",
    "version": 3
   },
   "file_extension": ".py",
   "mimetype": "text/x-python",
   "name": "python",
   "nbconvert_exporter": "python",
   "pygments_lexer": "ipython3",
   "version": "3.12.5"
  }
 },
 "nbformat": 4,
 "nbformat_minor": 2
}
