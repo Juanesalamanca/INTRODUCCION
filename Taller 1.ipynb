{
 "cells": [
  {
   "cell_type": "markdown",
   "metadata": {},
   "source": [
    "# HOLA MUNDO"
   ]
  },
  {
   "cell_type": "code",
   "execution_count": 2,
   "metadata": {},
   "outputs": [
    {
     "name": "stdout",
     "output_type": "stream",
     "text": [
      "¡Hola mundo!\n",
      "¡Hola\n",
      "mundo!\n"
     ]
    }
   ],
   "source": [
    "print('¡Hola mundo!')\n",
    "print('¡Hola\\nmundo!') #esta parte no se tiene en cuenta"
   ]
  },
  {
   "cell_type": "markdown",
   "metadata": {},
   "source": [
    "# OPERACIONES ARITMÉTICAS"
   ]
  },
  {
   "cell_type": "code",
   "execution_count": 5,
   "metadata": {},
   "outputs": [
    {
     "name": "stdout",
     "output_type": "stream",
     "text": [
      "3.5\n",
      "8.0\n",
      "76.25\n",
      "El año tiene 31536000 segundos\n"
     ]
    }
   ],
   "source": [
    "a= 5*(2.5+3.1)/8\n",
    "print(a)\n",
    "b=(2**3+4**2)/3\n",
    "print(b)\n",
    "c=a**2+b**2\n",
    "print(c)\n",
    "s=365*24*3600\n",
    "print(\"El año tiene\", s, \"segundos\")\n"
   ]
  }
 ],
 "metadata": {
  "kernelspec": {
   "display_name": "Python 3",
   "language": "python",
   "name": "python3"
  },
  "language_info": {
   "codemirror_mode": {
    "name": "ipython",
    "version": 3
   },
   "file_extension": ".py",
   "mimetype": "text/x-python",
   "name": "python",
   "nbconvert_exporter": "python",
   "pygments_lexer": "ipython3",
   "version": "3.12.5"
  }
 },
 "nbformat": 4,
 "nbformat_minor": 2
}
