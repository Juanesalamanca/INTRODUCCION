{
 "cells": [
  {
   "cell_type": "code",
   "execution_count": 9,
   "metadata": {},
   "outputs": [],
   "source": [
    "import pandas as pd \n",
    "import numpy as np\n",
    "import datetime as datetime\n",
    "import unidecode as unidecode\n",
    "import pyarrow "
   ]
  },
  {
   "cell_type": "code",
   "execution_count": 4,
   "metadata": {},
   "outputs": [],
   "source": [
    "pd.options.display.max_columns=None"
   ]
  },
  {
   "cell_type": "markdown",
   "metadata": {},
   "source": [
    "# CARGAR DATOS"
   ]
  },
  {
   "cell_type": "code",
   "execution_count": 17,
   "metadata": {},
   "outputs": [
    {
     "data": {
      "text/html": [
       "<div>\n",
       "<style scoped>\n",
       "    .dataframe tbody tr th:only-of-type {\n",
       "        vertical-align: middle;\n",
       "    }\n",
       "\n",
       "    .dataframe tbody tr th {\n",
       "        vertical-align: top;\n",
       "    }\n",
       "\n",
       "    .dataframe thead th {\n",
       "        text-align: right;\n",
       "    }\n",
       "</style>\n",
       "<table border=\"1\" class=\"dataframe\">\n",
       "  <thead>\n",
       "    <tr style=\"text-align: right;\">\n",
       "      <th></th>\n",
       "      <th>Unnamed: 0</th>\n",
       "      <th>id_cliente</th>\n",
       "      <th>nombre</th>\n",
       "      <th>apellidoS</th>\n",
       "      <th>FECHA NACIMIENTO</th>\n",
       "      <th>ciudad</th>\n",
       "      <th>fecha_registro</th>\n",
       "      <th>ultima_compra</th>\n",
       "    </tr>\n",
       "  </thead>\n",
       "  <tbody>\n",
       "    <tr>\n",
       "      <th>0</th>\n",
       "      <td>0</td>\n",
       "      <td>1.0</td>\n",
       "      <td>Ana</td>\n",
       "      <td>Díaz</td>\n",
       "      <td>06/01/2000</td>\n",
       "      <td>Bogotá</td>\n",
       "      <td>19/01/2022</td>\n",
       "      <td>14/02/2022</td>\n",
       "    </tr>\n",
       "    <tr>\n",
       "      <th>1</th>\n",
       "      <td>1</td>\n",
       "      <td>2.0</td>\n",
       "      <td>Carlos</td>\n",
       "      <td>López</td>\n",
       "      <td>02/08/1980</td>\n",
       "      <td>Barranquilla</td>\n",
       "      <td>21/01/2022</td>\n",
       "      <td>15/02/2022</td>\n",
       "    </tr>\n",
       "    <tr>\n",
       "      <th>2</th>\n",
       "      <td>2</td>\n",
       "      <td>3.0</td>\n",
       "      <td>Pedro</td>\n",
       "      <td>Pérez</td>\n",
       "      <td>10/06/1976</td>\n",
       "      <td>Cartagena</td>\n",
       "      <td>22/02/2022</td>\n",
       "      <td>04/04/2022</td>\n",
       "    </tr>\n",
       "    <tr>\n",
       "      <th>3</th>\n",
       "      <td>3</td>\n",
       "      <td>4.0</td>\n",
       "      <td>Juan</td>\n",
       "      <td>López</td>\n",
       "      <td>17/04/1993</td>\n",
       "      <td>Cartagena</td>\n",
       "      <td>25/01/2022</td>\n",
       "      <td>07/03/2022</td>\n",
       "    </tr>\n",
       "  </tbody>\n",
       "</table>\n",
       "</div>"
      ],
      "text/plain": [
       "   Unnamed: 0  id_cliente  nombre apellidoS    FECHA NACIMIENTO        ciudad  \\\n",
       "0           0         1.0     Ana         Díaz       06/01/2000        Bogotá   \n",
       "1           1         2.0  Carlos        López       02/08/1980  Barranquilla   \n",
       "2           2         3.0   Pedro        Pérez       10/06/1976     Cartagena   \n",
       "3           3         4.0    Juan        López       17/04/1993     Cartagena   \n",
       "\n",
       "  fecha_registro   ultima_compra  \n",
       "0       19/01/2022    14/02/2022  \n",
       "1       21/01/2022    15/02/2022  \n",
       "2       22/02/2022    04/04/2022  \n",
       "3       25/01/2022    07/03/2022  "
      ]
     },
     "execution_count": 17,
     "metadata": {},
     "output_type": "execute_result"
    }
   ],
   "source": [
    "df1=pd.read_csv('C:/Users/soyju/Downloads/PRICNIPIOS M&S/INTRODUCCION A PHYTON/INTRODUCCION/DatosExcel/datos_cliente1.csv',sep=';',encoding='latin-1')\n",
    "df1.head(4)"
   ]
  },
  {
   "cell_type": "code",
   "execution_count": 18,
   "metadata": {},
   "outputs": [
    {
     "data": {
      "text/html": [
       "<div>\n",
       "<style scoped>\n",
       "    .dataframe tbody tr th:only-of-type {\n",
       "        vertical-align: middle;\n",
       "    }\n",
       "\n",
       "    .dataframe tbody tr th {\n",
       "        vertical-align: top;\n",
       "    }\n",
       "\n",
       "    .dataframe thead th {\n",
       "        text-align: right;\n",
       "    }\n",
       "</style>\n",
       "<table border=\"1\" class=\"dataframe\">\n",
       "  <thead>\n",
       "    <tr style=\"text-align: right;\">\n",
       "      <th></th>\n",
       "      <th>Unnamed: 0</th>\n",
       "      <th>id_orden</th>\n",
       "      <th>id_cliente</th>\n",
       "      <th>Producto</th>\n",
       "      <th>monto DE COMPRA</th>\n",
       "      <th>Fecha orden</th>\n",
       "      <th>Identificacionn</th>\n",
       "      <th>tipo venta</th>\n",
       "      <th>REGION</th>\n",
       "    </tr>\n",
       "  </thead>\n",
       "  <tbody>\n",
       "    <tr>\n",
       "      <th>0</th>\n",
       "      <td>0</td>\n",
       "      <td>1001</td>\n",
       "      <td>273.0</td>\n",
       "      <td>A</td>\n",
       "      <td>300.70</td>\n",
       "      <td>31/10/2022</td>\n",
       "      <td>43453698.0</td>\n",
       "      <td>presencial</td>\n",
       "      <td>Este</td>\n",
       "    </tr>\n",
       "    <tr>\n",
       "      <th>1</th>\n",
       "      <td>1</td>\n",
       "      <td>1002</td>\n",
       "      <td>1468.0</td>\n",
       "      <td>B</td>\n",
       "      <td>106.56</td>\n",
       "      <td>07/06/2021</td>\n",
       "      <td>27299420.0</td>\n",
       "      <td>online</td>\n",
       "      <td>Norte</td>\n",
       "    </tr>\n",
       "    <tr>\n",
       "      <th>2</th>\n",
       "      <td>2</td>\n",
       "      <td>1003</td>\n",
       "      <td>NaN</td>\n",
       "      <td>E</td>\n",
       "      <td>133.42</td>\n",
       "      <td>02/04/2021</td>\n",
       "      <td>23461449.0</td>\n",
       "      <td>online</td>\n",
       "      <td>Este</td>\n",
       "    </tr>\n",
       "    <tr>\n",
       "      <th>3</th>\n",
       "      <td>3</td>\n",
       "      <td>1004</td>\n",
       "      <td>NaN</td>\n",
       "      <td>C</td>\n",
       "      <td>65.44</td>\n",
       "      <td>07/12/2020</td>\n",
       "      <td>15328088.0</td>\n",
       "      <td>presencial</td>\n",
       "      <td>Este</td>\n",
       "    </tr>\n",
       "  </tbody>\n",
       "</table>\n",
       "</div>"
      ],
      "text/plain": [
       "   Unnamed: 0  id_orden  id_cliente Producto  monto DE COMPRA Fecha orden  \\\n",
       "0           0      1001       273.0        A           300.70  31/10/2022   \n",
       "1           1      1002      1468.0        B           106.56  07/06/2021   \n",
       "2           2      1003         NaN        E           133.42  02/04/2021   \n",
       "3           3      1004         NaN        C            65.44  07/12/2020   \n",
       "\n",
       "   Identificacionn  tipo venta REGION  \n",
       "0       43453698.0  presencial   Este  \n",
       "1       27299420.0      online  Norte  \n",
       "2       23461449.0      online   Este  \n",
       "3       15328088.0  presencial   Este  "
      ]
     },
     "execution_count": 18,
     "metadata": {},
     "output_type": "execute_result"
    }
   ],
   "source": [
    "df2=pd.read_csv('C:/Users/soyju/Downloads/PRICNIPIOS M&S/INTRODUCCION A PHYTON/INTRODUCCION/DatosExcel/datos_cliente2.csv',sep=';',encoding='latin-1')\n",
    "df2.head(4)"
   ]
  },
  {
   "cell_type": "code",
   "execution_count": 19,
   "metadata": {},
   "outputs": [
    {
     "data": {
      "text/html": [
       "<div>\n",
       "<style scoped>\n",
       "    .dataframe tbody tr th:only-of-type {\n",
       "        vertical-align: middle;\n",
       "    }\n",
       "\n",
       "    .dataframe tbody tr th {\n",
       "        vertical-align: top;\n",
       "    }\n",
       "\n",
       "    .dataframe thead th {\n",
       "        text-align: right;\n",
       "    }\n",
       "</style>\n",
       "<table border=\"1\" class=\"dataframe\">\n",
       "  <thead>\n",
       "    <tr style=\"text-align: right;\">\n",
       "      <th></th>\n",
       "      <th>Unnamed: 0</th>\n",
       "      <th>id_orden</th>\n",
       "      <th>tipo_venta</th>\n",
       "      <th>REGION DE VENTA</th>\n",
       "      <th>porcentaje_pago</th>\n",
       "    </tr>\n",
       "  </thead>\n",
       "  <tbody>\n",
       "    <tr>\n",
       "      <th>0</th>\n",
       "      <td>0</td>\n",
       "      <td>1001</td>\n",
       "      <td>presencial</td>\n",
       "      <td>Este</td>\n",
       "      <td>8.0</td>\n",
       "    </tr>\n",
       "    <tr>\n",
       "      <th>1</th>\n",
       "      <td>1</td>\n",
       "      <td>1002</td>\n",
       "      <td>online</td>\n",
       "      <td>Norte</td>\n",
       "      <td>12.0</td>\n",
       "    </tr>\n",
       "    <tr>\n",
       "      <th>2</th>\n",
       "      <td>2</td>\n",
       "      <td>1003</td>\n",
       "      <td>online</td>\n",
       "      <td>Este</td>\n",
       "      <td>10.0</td>\n",
       "    </tr>\n",
       "    <tr>\n",
       "      <th>3</th>\n",
       "      <td>3</td>\n",
       "      <td>1004</td>\n",
       "      <td>presencial</td>\n",
       "      <td>Este</td>\n",
       "      <td>8.0</td>\n",
       "    </tr>\n",
       "  </tbody>\n",
       "</table>\n",
       "</div>"
      ],
      "text/plain": [
       "   Unnamed: 0  id_orden  tipo_venta REGION DE VENTA  porcentaje_pago\n",
       "0           0      1001  presencial            Este              8.0\n",
       "1           1      1002      online           Norte             12.0\n",
       "2           2      1003      online            Este             10.0\n",
       "3           3      1004  presencial            Este              8.0"
      ]
     },
     "execution_count": 19,
     "metadata": {},
     "output_type": "execute_result"
    }
   ],
   "source": [
    "df3=pd.read_csv('C:/Users/soyju/Downloads/PRICNIPIOS M&S/INTRODUCCION A PHYTON/INTRODUCCION/DatosExcel/datos_cliente3.csv',sep=';',encoding='latin-1')\n",
    "df3.head(4)"
   ]
  },
  {
   "cell_type": "code",
   "execution_count": 20,
   "metadata": {},
   "outputs": [
    {
     "name": "stdout",
     "output_type": "stream",
     "text": [
      "(2500, 8)\n",
      "(2500, 9)\n",
      "(2500, 5)\n"
     ]
    }
   ],
   "source": [
    "print(df1.shape)\n",
    "print(df2.shape)\n",
    "print(df3.shape)\n"
   ]
  },
  {
   "cell_type": "markdown",
   "metadata": {},
   "source": [
    "# CONOCER DATOS"
   ]
  },
  {
   "cell_type": "code",
   "execution_count": 21,
   "metadata": {},
   "outputs": [
    {
     "name": "stdout",
     "output_type": "stream",
     "text": [
      "<class 'pandas.core.frame.DataFrame'>\n",
      "RangeIndex: 2500 entries, 0 to 2499\n",
      "Data columns (total 8 columns):\n",
      " #   Column            Non-Null Count  Dtype  \n",
      "---  ------            --------------  -----  \n",
      " 0   Unnamed: 0        2500 non-null   int64  \n",
      " 1   id_cliente        2400 non-null   float64\n",
      " 2   nombre            2400 non-null   object \n",
      " 3   apellidoS         2400 non-null   object \n",
      " 4   FECHA NACIMIENTO  2400 non-null   object \n",
      " 5   ciudad            2299 non-null   object \n",
      " 6   fecha_registro    2400 non-null   object \n",
      " 7   ultima_compra     2400 non-null   object \n",
      "dtypes: float64(1), int64(1), object(6)\n",
      "memory usage: 156.4+ KB\n"
     ]
    }
   ],
   "source": [
    "df1.info()"
   ]
  },
  {
   "cell_type": "code",
   "execution_count": 22,
   "metadata": {},
   "outputs": [
    {
     "name": "stdout",
     "output_type": "stream",
     "text": [
      "<class 'pandas.core.frame.DataFrame'>\n",
      "RangeIndex: 2500 entries, 0 to 2499\n",
      "Data columns (total 9 columns):\n",
      " #   Column           Non-Null Count  Dtype  \n",
      "---  ------           --------------  -----  \n",
      " 0   Unnamed: 0       2500 non-null   int64  \n",
      " 1   id_orden         2500 non-null   int64  \n",
      " 2   id_cliente       2406 non-null   float64\n",
      " 3   Producto         2500 non-null   object \n",
      " 4   monto DE COMPRA  2399 non-null   float64\n",
      " 5   Fecha orden      2399 non-null   object \n",
      " 6   Identificacionn  2500 non-null   float64\n",
      " 7   tipo venta       2500 non-null   object \n",
      " 8   REGION           2500 non-null   object \n",
      "dtypes: float64(3), int64(2), object(4)\n",
      "memory usage: 175.9+ KB\n"
     ]
    }
   ],
   "source": [
    "df2.info()"
   ]
  },
  {
   "cell_type": "code",
   "execution_count": 23,
   "metadata": {},
   "outputs": [
    {
     "name": "stdout",
     "output_type": "stream",
     "text": [
      "<class 'pandas.core.frame.DataFrame'>\n",
      "RangeIndex: 2500 entries, 0 to 2499\n",
      "Data columns (total 5 columns):\n",
      " #   Column           Non-Null Count  Dtype  \n",
      "---  ------           --------------  -----  \n",
      " 0   Unnamed: 0       2500 non-null   int64  \n",
      " 1   id_orden         2500 non-null   int64  \n",
      " 2   tipo_venta       2500 non-null   object \n",
      " 3   REGION DE VENTA  2500 non-null   object \n",
      " 4   porcentaje_pago  2500 non-null   float64\n",
      "dtypes: float64(1), int64(2), object(2)\n",
      "memory usage: 97.8+ KB\n"
     ]
    }
   ],
   "source": [
    "df3.info()"
   ]
  },
  {
   "cell_type": "code",
   "execution_count": 24,
   "metadata": {},
   "outputs": [
    {
     "data": {
      "text/plain": [
       "Unnamed: 0            0\n",
       "id_cliente          100\n",
       "nombre              100\n",
       "apellidoS           100\n",
       "FECHA NACIMIENTO    100\n",
       "ciudad              201\n",
       "fecha_registro      100\n",
       "ultima_compra       100\n",
       "dtype: int64"
      ]
     },
     "execution_count": 24,
     "metadata": {},
     "output_type": "execute_result"
    }
   ],
   "source": [
    "nulos1=df1.isnull().sum()\n",
    "nulos1"
   ]
  },
  {
   "cell_type": "code",
   "execution_count": 25,
   "metadata": {},
   "outputs": [
    {
     "data": {
      "text/plain": [
       "Unnamed: 0           0\n",
       "id_orden             0\n",
       "id_cliente          94\n",
       "Producto             0\n",
       "monto DE COMPRA    101\n",
       "Fecha orden        101\n",
       "Identificacionn      0\n",
       "tipo venta           0\n",
       "REGION               0\n",
       "dtype: int64"
      ]
     },
     "execution_count": 25,
     "metadata": {},
     "output_type": "execute_result"
    }
   ],
   "source": [
    "nulos2=df2.isnull().sum()\n",
    "nulos2"
   ]
  },
  {
   "cell_type": "code",
   "execution_count": 26,
   "metadata": {},
   "outputs": [
    {
     "data": {
      "text/plain": [
       "Unnamed: 0         0\n",
       "id_orden           0\n",
       "tipo_venta         0\n",
       "REGION DE VENTA    0\n",
       "porcentaje_pago    0\n",
       "dtype: int64"
      ]
     },
     "execution_count": 26,
     "metadata": {},
     "output_type": "execute_result"
    }
   ],
   "source": [
    "nulos3=df3.isnull().sum()\n",
    "nulos3"
   ]
  }
 ],
 "metadata": {
  "kernelspec": {
   "display_name": "Python 3",
   "language": "python",
   "name": "python3"
  },
  "language_info": {
   "codemirror_mode": {
    "name": "ipython",
    "version": 3
   },
   "file_extension": ".py",
   "mimetype": "text/x-python",
   "name": "python",
   "nbconvert_exporter": "python",
   "pygments_lexer": "ipython3",
   "version": "3.12.5"
  }
 },
 "nbformat": 4,
 "nbformat_minor": 2
}
